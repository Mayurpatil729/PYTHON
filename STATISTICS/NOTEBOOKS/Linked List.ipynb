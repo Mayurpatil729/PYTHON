{
 "cells": [
  {
   "cell_type": "code",
   "execution_count": 9,
   "metadata": {},
   "outputs": [],
   "source": [
    "# A simple Python program to introduce a linked list\n",
    "  \n",
    "# Node class\n",
    "  \n",
    "  \n",
    "class Node:\n",
    "  \n",
    "    # Function to initialise the node object\n",
    "    def __init__(self, data):\n",
    "        self.data = data  # Assign data\n",
    "        self.next = None  # Initialize next as null\n",
    "  \n",
    "  \n",
    "# Linked List class contains a Node object\n",
    "class LinkedList:\n",
    "  \n",
    "    # Function to initialize head\n",
    "    def __init__(self):\n",
    "        self.head = None\n",
    "  \n",
    "  \n",
    "# Code execution starts here\n",
    "if __name__ == '__main__':\n",
    "  \n",
    "    # Start with the empty list\n",
    "    llist = LinkedList()\n",
    "  \n",
    "    llist.head = Node(1)\n",
    "    second = Node(2)\n",
    "    third = Node(3)\n",
    "  \n",
    "    '''\n",
    "    Three nodes have been created.\n",
    "    We have references to these three blocks as head,\n",
    "    second and third\n",
    "  \n",
    "    llist.head        second              third\n",
    "         |                |                  |\n",
    "         |                |                  |\n",
    "    +----+------+     +----+------+     +----+------+\n",
    "    | 1  | None |     | 2  | None |     |  3 | None |\n",
    "    +----+------+     +----+------+     +----+------+\n",
    "    '''\n",
    "  \n",
    "    llist.head.next = second  # Link first node with second\n",
    "  \n",
    "    '''\n",
    "    Now next of first Node refers to second.  So they\n",
    "    both are linked.\n",
    "  \n",
    "    llist.head        second              third\n",
    "         |                |                  |\n",
    "         |                |                  |\n",
    "    +----+------+     +----+------+     +----+------+\n",
    "    | 1  |  o-------->| 2  | null |     |  3 | null |\n",
    "    +----+------+     +----+------+     +----+------+ \n",
    "    '''\n",
    "  \n",
    "    second.next = third  # Link second node with the third node\n",
    "  \n",
    "    '''\n",
    "    Now next of second Node refers to third.  So all three\n",
    "    nodes are linked.\n",
    "  \n",
    "    llist.head        second              third\n",
    "         |                |                  |\n",
    "         |                |                  |\n",
    "    +----+------+     +----+------+     +----+------+\n",
    "    | 1  |  o-------->| 2  |  o-------->|  3 | null |\n",
    "    +----+------+     +----+------+     +----+------+ \n",
    "    '''"
   ]
  },
  {
   "cell_type": "code",
   "execution_count": 10,
   "metadata": {},
   "outputs": [
    {
     "name": "stdout",
     "output_type": "stream",
     "text": [
      "1\n",
      "2\n",
      "3\n"
     ]
    }
   ],
   "source": [
    "class Node:\n",
    "  \n",
    "    # Function to initialise the node object\n",
    "    def __init__(self, data):\n",
    "        self.data = data  # Assign data\n",
    "        self.next = None  # Initialize next as null\n",
    "  \n",
    "  \n",
    "# Linked List class contains a Node object\n",
    "class LinkedList:\n",
    "  \n",
    "    # Function to initialize head\n",
    "    def __init__(self):\n",
    "        self.head = None\n",
    "  \n",
    "    # This function prints contents of linked list\n",
    "    # starting from head\n",
    "    def printList(self):\n",
    "        temp = self.head\n",
    "        while (temp):\n",
    "            print(temp.data)\n",
    "            temp = temp.next\n",
    "  \n",
    "  \n",
    "# Code execution starts here\n",
    "if __name__ == '__main__':\n",
    "  \n",
    "    # Start with the empty list\n",
    "    llist = LinkedList()\n",
    "  \n",
    "    llist.head = Node(1)\n",
    "    second = Node(2)\n",
    "    third = Node(3)\n",
    "  \n",
    "    llist.head.next = second  # Link first node with second\n",
    "    second.next = third  # Link second node with the third node\n",
    "  \n",
    "    llist.printList()"
   ]
  },
  {
   "cell_type": "markdown",
   "metadata": {},
   "source": [
    "# Exception handling :"
   ]
  },
  {
   "cell_type": "code",
   "execution_count": 11,
   "metadata": {},
   "outputs": [
    {
     "name": "stdout",
     "output_type": "stream",
     "text": [
      "start\n"
     ]
    },
    {
     "ename": "ZeroDivisionError",
     "evalue": "division by zero",
     "output_type": "error",
     "traceback": [
      "\u001b[1;31m---------------------------------------------------------------------------\u001b[0m",
      "\u001b[1;31mZeroDivisionError\u001b[0m                         Traceback (most recent call last)",
      "\u001b[1;32m<ipython-input-11-4705c70c2fbb>\u001b[0m in \u001b[0;36m<module>\u001b[1;34m()\u001b[0m\n\u001b[0;32m      3\u001b[0m \u001b[0mprint\u001b[0m\u001b[1;33m(\u001b[0m\u001b[1;34m\"start\"\u001b[0m\u001b[1;33m)\u001b[0m\u001b[1;33m\u001b[0m\u001b[0m\n\u001b[0;32m      4\u001b[0m \u001b[0mx\u001b[0m\u001b[1;33m=\u001b[0m\u001b[1;36m0\u001b[0m\u001b[1;33m\u001b[0m\u001b[0m\n\u001b[1;32m----> 5\u001b[1;33m \u001b[0mresult\u001b[0m\u001b[1;33m=\u001b[0m\u001b[1;36m10\u001b[0m\u001b[1;33m/\u001b[0m\u001b[0mx\u001b[0m\u001b[1;33m\u001b[0m\u001b[0m\n\u001b[0m\u001b[0;32m      6\u001b[0m \u001b[0mprint\u001b[0m\u001b[1;33m(\u001b[0m\u001b[0mresult\u001b[0m\u001b[1;33m)\u001b[0m\u001b[1;33m\u001b[0m\u001b[0m\n\u001b[0;32m      7\u001b[0m \u001b[0mprint\u001b[0m\u001b[1;33m(\u001b[0m\u001b[1;34m\"end\"\u001b[0m\u001b[1;33m)\u001b[0m\u001b[1;33m\u001b[0m\u001b[0m\n",
      "\u001b[1;31mZeroDivisionError\u001b[0m: division by zero"
     ]
    }
   ],
   "source": [
    "#Exception handling :\n",
    "\n",
    "print(\"start\")\n",
    "x=0\n",
    "result=10/x\n",
    "print(result)\n",
    "print(\"end\")\n"
   ]
  },
  {
   "cell_type": "code",
   "execution_count": 12,
   "metadata": {},
   "outputs": [
    {
     "name": "stdout",
     "output_type": "stream",
     "text": [
      "start\n",
      "can't div by zero\n",
      "end\n"
     ]
    }
   ],
   "source": [
    "print(\"start\")\n",
    "x=0\n",
    "try:\n",
    "    result=10/x\n",
    "    print(result)\n",
    "except ZeroDivisionError :\n",
    "    print(\"can't div by zero\")\n",
    "\n",
    "print(\"end\")\n"
   ]
  },
  {
   "cell_type": "code",
   "execution_count": 13,
   "metadata": {},
   "outputs": [
    {
     "name": "stdout",
     "output_type": "stream",
     "text": [
      "start\n",
      "list index out of range\n",
      "5.0\n",
      "end\n"
     ]
    }
   ],
   "source": [
    "print(\"start\")\n",
    "x=2\n",
    "list1=[2,5,7,9]\n",
    "try:\n",
    "    result=10/x\n",
    "    try:\n",
    "       print(list1[4])\n",
    "    except IndexError as ex :\n",
    "        print(ex)\n",
    "    print(result)\n",
    "except ZeroDivisionError :\n",
    "    print(\"can't div by zero\")\n",
    "\n",
    "print(\"end\")"
   ]
  },
  {
   "cell_type": "code",
   "execution_count": 14,
   "metadata": {},
   "outputs": [
    {
     "name": "stdout",
     "output_type": "stream",
     "text": [
      "start\n",
      "can't div by zero\n",
      "end\n"
     ]
    }
   ],
   "source": [
    "print(\"start\")\n",
    "x=0\n",
    "list1=[2,5,7,9]\n",
    "try:\n",
    "    result=10/x\n",
    "    print(list1[4])\n",
    "    print(result)\n",
    "except ZeroDivisionError :\n",
    "    print(\"can't div by zero\")\n",
    "except IndexError as ex :\n",
    "        print(ex)\n",
    "print(\"end\")"
   ]
  },
  {
   "cell_type": "code",
   "execution_count": 15,
   "metadata": {},
   "outputs": [
    {
     "name": "stdout",
     "output_type": "stream",
     "text": [
      "start\n",
      "list index out of range\n",
      "end\n"
     ]
    }
   ],
   "source": [
    "print(\"start\")\n",
    "x=2\n",
    "list1=[2,5,7,9]\n",
    "try:\n",
    "    result=10/x\n",
    "    print(list1[4])\n",
    "    print(result)\n",
    "except (ZeroDivisionError,IndexError) as ex :\n",
    "    print(ex)\n",
    "print(\"end\")"
   ]
  },
  {
   "cell_type": "code",
   "execution_count": 16,
   "metadata": {},
   "outputs": [
    {
     "name": "stdout",
     "output_type": "stream",
     "text": [
      "start\n",
      "division by zero\n",
      "end\n"
     ]
    }
   ],
   "source": [
    "print(\"start\")\n",
    "x=0\n",
    "list1=[2,5,7,9]\n",
    "try:\n",
    "    result=10/x\n",
    "    print(list1[4])\n",
    "    print(result)\n",
    "except Exception as ex :\n",
    "    print(ex)\n",
    "print(\"end\")"
   ]
  },
  {
   "cell_type": "code",
   "execution_count": 17,
   "metadata": {},
   "outputs": [
    {
     "name": "stdout",
     "output_type": "stream",
     "text": [
      "start\n",
      "division by zero\n",
      "finally block\n",
      "end\n"
     ]
    }
   ],
   "source": [
    "print(\"start\")\n",
    "x=0\n",
    "list1=[2,5,7,9]\n",
    "try:\n",
    "    result=10/x\n",
    "    print(list1[2])\n",
    "    print(result)\n",
    "except Exception as ex :\n",
    "    print(ex)\n",
    "finally :\n",
    "    print(\"finally block\")\n",
    "print(\"end\")"
   ]
  },
  {
   "cell_type": "code",
   "execution_count": 18,
   "metadata": {},
   "outputs": [
    {
     "name": "stdout",
     "output_type": "stream",
     "text": [
      "start\n",
      "7\n",
      "5.0\n",
      "else block\n",
      "finally block\n",
      "end\n"
     ]
    }
   ],
   "source": [
    "print(\"start\")\n",
    "x=2\n",
    "list1=[2,5,7,9]\n",
    "try:\n",
    "    result=10/x\n",
    "    print(list1[2])\n",
    "    print(result)\n",
    "except Exception as ex :\n",
    "    print(ex)\n",
    "else:\n",
    "    print(\"else block\")\n",
    "finally :\n",
    "    print(\"finally block\")\n",
    "print(\"end\")"
   ]
  },
  {
   "cell_type": "code",
   "execution_count": 19,
   "metadata": {},
   "outputs": [
    {
     "name": "stdout",
     "output_type": "stream",
     "text": [
      "start\n",
      "7\n",
      "5.0\n",
      "finally block\n",
      "end\n"
     ]
    }
   ],
   "source": [
    "print(\"start\")\n",
    "x=2\n",
    "list1=[2,5,7,9]\n",
    "try:\n",
    "    result=10/x\n",
    "    print(list1[2])\n",
    "    print(result)\n",
    "finally :\n",
    "    print(\"finally block\")\n",
    "print(\"end\")"
   ]
  },
  {
   "cell_type": "code",
   "execution_count": null,
   "metadata": {},
   "outputs": [],
   "source": []
  }
 ],
 "metadata": {
  "kernelspec": {
   "display_name": "Python 3",
   "language": "python",
   "name": "python3"
  },
  "language_info": {
   "codemirror_mode": {
    "name": "ipython",
    "version": 3
   },
   "file_extension": ".py",
   "mimetype": "text/x-python",
   "name": "python",
   "nbconvert_exporter": "python",
   "pygments_lexer": "ipython3",
   "version": "3.6.5"
  }
 },
 "nbformat": 4,
 "nbformat_minor": 2
}
