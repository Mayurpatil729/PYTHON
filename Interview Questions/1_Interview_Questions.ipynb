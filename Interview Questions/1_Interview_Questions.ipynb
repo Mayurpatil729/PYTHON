{
 "cells": [
  {
   "cell_type": "markdown",
   "metadata": {},
   "source": [
    "Q1. What is the difference between is operator and == operator in python ?\n",
    "\n",
    "1. In general, is operator meant for reference comparison or Address comparison. ie\n",
    "if two references are pointing to the same object, then only is operator returns\n",
    "True.\n",
    "2. == operator meant for content comparison. i.e eventhough objects are different, if\n",
    "the content is the same then == operator returns True."
   ]
  },
  {
   "cell_type": "code",
   "execution_count": 1,
   "metadata": {},
   "outputs": [
    {
     "name": "stdout",
     "output_type": "stream",
     "text": [
      "False\n",
      "True\n",
      "True\n",
      "True\n"
     ]
    }
   ],
   "source": [
    "l1=[10,20,30,40]\n",
    "l2=[10,20,30,40]\n",
    "print(l1 is l2)  # False\n",
    "print(l1==l2) #True\n",
    "\n",
    "l3=l1\n",
    "print(l1 is l3) #True\n",
    "print(l1 == l3) #True"
   ]
  },
  {
   "cell_type": "markdown",
   "metadata": {},
   "source": [
    "Q2. Explain about Ternary Operator or Conditional Operator ?\n",
    "x= firstValue if condition else secondValue\n",
    "if condition is True then firstValue will be considered , otherwise second value will be considered.\n"
   ]
  },
  {
   "cell_type": "code",
   "execution_count": 2,
   "metadata": {},
   "outputs": [
    {
     "name": "stdout",
     "output_type": "stream",
     "text": [
      "Maximum Value:  100\n",
      "Biggest Value : 150\n"
     ]
    }
   ],
   "source": [
    "# Find Max of 2 given numbers\n",
    "a=int(input(\"Enter First Value: \"))\n",
    "b=int(input(\"Enter Second Value: \"))\n",
    "max=a if a>b else b\n",
    "print(f'Maximum Value: ',max)\n",
    "\n",
    "#Find Max of 3 given numbers\n",
    "a=int(input(\"Enter First Value: \"))\n",
    "b=int(input(\"Enter Second Value: \"))\n",
    "c=int(input(\"Enter Third Value: \"))\n",
    "biggestValue=a if a>b and a>c else b if b>c else c\n",
    "print(f'Biggest Value : {biggestValue}')\n"
   ]
  },
  {
   "cell_type": "markdown",
   "metadata": {},
   "source": [
    "Q3. In python , How many data types, and Which object are mutable and which objects are immutable ?\n",
    "Here's the corrected version of the list with the mutability of each data type:\n",
    "\n",
    "1. **int**  → Immutable\n",
    "\n",
    "2. **float**  → Immutable\n",
    "\n",
    "3. **complex**  → Immutable\n",
    "\n",
    "4. **str (string)**  → Immutable\n",
    "\n",
    "5. **bool**  → Immutable\n",
    "\n",
    "6. **list**  → Mutable\n",
    "\n",
    "7. **tuple**  → Immutable\n",
    "\n",
    "8. **set**  → Mutable\n",
    "\n",
    "9. **dict**  → Mutable\n",
    "\n",
    "10. **frozenset**  → Immutable\n",
    "\n",
    "11. **bytes**  → Immutable\n",
    "\n",
    "12. **bytearray**  → Mutable\n",
    "\n",
    "13. **range**  → Immutable\n"
   ]
  },
  {
   "cell_type": "markdown",
   "metadata": {},
   "source": [
    "Q4. Q4. Explain mutability and innutability with an example? \n",
    "mutable means changeable where as immutable means non-changeable. Once we creates object, if we are allowed to change its content that object is an said to be mutable\n",
    "eg: list object is mutable."
   ]
  },
  {
   "cell_type": "code",
   "execution_count": 4,
   "metadata": {},
   "outputs": [
    {
     "name": "stdout",
     "output_type": "stream",
     "text": [
      "Befor modification:  [10, 20, 30, 40]\n",
      "Address of list before modification:  2194707872576\n",
      "After Modification:  [10, 20, 7777, 40]\n",
      "Address of list after modification :  2194707872576\n"
     ]
    }
   ],
   "source": [
    "l=[10,20,30,40]\n",
    "print('Befor modification: ',l)\n",
    "print(\"Address of list before modification: \",id(l))\n",
    "l[2]=7777\n",
    "print('After Modification: ',l)\n",
    "print(\"Address of list after modification : \",id(l))\n"
   ]
  },
  {
   "cell_type": "markdown",
   "metadata": {},
   "source": [
    "Q5. Explain The difference between list and tuple ?\n",
    "\n",
    "1. **Mutability**  \n",
    "   - List: Mutable  \n",
    "   - Tuple: Immutable  \n",
    "\n",
    "2. **Syntax**  \n",
    "   - List: Uses square brackets `[ ]`  \n",
    "   - Tuple: Uses parentheses `( )`  \n",
    "\n",
    "3. **Performance**  \n",
    "   - List: Slower due to mutability  \n",
    "   - Tuple: Faster due to immutability  \n",
    "\n",
    "4. **Usage**  \n",
    "   - List: Preferred when data needs to change frequently  \n",
    "   - Tuple: Preferred when data is constant and should not change \n",
    "   eg: Allowed input values for vendor machine. \n",
    "\n",
    "5. **Methods**  \n",
    "   - List: More methods like `append()`, `remove()`, etc.  \n",
    "   - Tuple: Limited methods like `count()`, `index()`  \n",
    "\n",
    "6. **Memory**  \n",
    "   - List: Consumes more memory  \n",
    "   - Tuple: Consumes less memory  \n",
    "\n",
    "7. **Iterating**  \n",
    "   - List: Slightly slower in iteration  \n",
    "   - Tuple: Faster in iteration  \n",
    "\n",
    "8. **Hashability**  \n",
    "   - List: Not hashable (cannot be used as keys in a dictionary)  \n",
    "   - Tuple: Hashable (can be used as keys in a dictionary)"
   ]
  },
  {
   "cell_type": "code",
   "execution_count": 5,
   "metadata": {},
   "outputs": [
    {
     "name": "stdout",
     "output_type": "stream",
     "text": [
      "2194707555968\n",
      "2194707865984\n",
      "2194707592256\n",
      "2194707592384\n"
     ]
    }
   ],
   "source": [
    "# List object won't be reusable\n",
    "# Tuple objects are reusable\n",
    "# id(l1) ≠ id(l2)\n",
    "# id(t1) = id(t2)\n",
    "l1=[10,20,30,40,50,60,70,80,90,100]\n",
    "l2=[10,20,30,40,50,60,70,80,90,100]\n",
    "t1=(10,20,30,40,50,60,70,80,90,100)\n",
    "t2=(10,20,30,40,50,60,70,80,90,100)\n",
    "print(id(l1))\n",
    "print(id(l2))\n",
    "print(id(t1))\n",
    "print(id(t2))"
   ]
  },
  {
   "cell_type": "code",
   "execution_count": 6,
   "metadata": {},
   "outputs": [
    {
     "name": "stdout",
     "output_type": "stream",
     "text": [
      "The size of list :  136\n",
      "The Size of Tuple :  120\n"
     ]
    }
   ],
   "source": [
    "# Memory\n",
    "import sys\n",
    "l=[10,20,30,40,50,60,70,80,90,100]\n",
    "t=(10,20,30,40,50,60,70,80,90,100)\n",
    "print(\"The size of list : \",sys.getsizeof(l)) #136\n",
    "print(\"The Size of Tuple : \",sys.getsizeof(t)) # 120\n",
    "\n"
   ]
  },
  {
   "cell_type": "markdown",
   "metadata": {},
   "source": [
    "Q6. What is the difference between Set and FrozenSet ?\n",
    ":All properties of set and frozenset are same except the following difference:\n",
    "1. 'set' is mutable  where as frozenset is immutable."
   ]
  },
  {
   "cell_type": "code",
   "execution_count": null,
   "metadata": {},
   "outputs": [],
   "source": [
    "s={10,20,30,40}\n",
    "fs=frozenset(s)\n",
    "fs.add(50)# Attribute Error.\n",
    "print(fs)"
   ]
  },
  {
   "cell_type": "markdown",
   "metadata": {},
   "source": [
    "Q7. What is the difference between List and Dict ?\n",
    "Table : List and Dict\n",
    "\n",
    "1. List is a group of comma separated individual objects within square brackets.\n",
    "eg: l=[10,20,30,40]\n",
    "1. Dict is a group of comma separated key-value pairs within curly braces.\n",
    "eg: d={'A':'Apple','B':'Banana','C':'Cat'}\n",
    "\n",
    "2. In List, Insertion Order is preserved\n",
    "2. In Dict, All key-value pairs will be stored based on hashcode of keys and hence\n",
    "insertion Order is not preserved. But from 3.7 version onwards, the dict\n",
    "functionality internally replaced with OrderedDict functionality. Hence from 3.7\n",
    "version onwards, in the case of normal dict also insertion order can be\n",
    "guaranteed.\n",
    "\n",
    "3. In List, Duplicate objects are allowed.\n",
    "3. In Dict, Duplicate keys are not allowed, but values can be duplicated. If we are trying to add an entry(key-value pair) with duplicate key then old value will be replaced with new value.\n",
    "\n",
    "4. In List, we can access objects by using index, which is zero based. i.e index of\n",
    "first object is zero.\n",
    "4. In Dict, we can access values by using keys.\n",
    "\n",
    "\n",
    "5. In List, objects need not be hashable.\n",
    "6. In Dict, key must be hashable."
   ]
  },
  {
   "cell_type": "markdown",
   "metadata": {},
   "source": [
    "Q8. What is the difference between List and Set ?\n",
    "\n",
    "1. List is a group of corna separated individual objects within square brackets.\n",
    "eg: l=[10,20,30,40]\n",
    "2. Set is a group of coma separated individual objects within curly braces.\n",
    "eg: s={10,20,30,40}\n",
    "\n",
    "3. In List, Duplicate objects are allowed.\n",
    "4. In Set,Duplicate objects are not allowed.\n",
    "\n",
    "5. In List, Insertion order is preserved.\n",
    "6. In Set, objects will be inserted based on hashcode and hence Insertion order is not preserved.\n",
    "\n",
    "7. Indexing and Slicing concepts are applicable for List.\n",
    "8. Indexing and Slicing concepts are not applicable for Set."
   ]
  },
  {
   "cell_type": "markdown",
   "metadata": {},
   "source": [
    "Q9. Explain Slice Operator and its syntax ?\n",
    "If we want to access part(piece or slice) of given sequence, then we should go for slice operator. The sequence can be string or list or tuple etc.\n",
    "\n",
    "Syntax :\n",
    "\n",
    "---\n",
    "\n",
    "s[begin:end:step]\n",
    "step value can be either +ve or -ve(but not zero)\n",
    "If step value is +ve, then we have to consider from begin index to end-1 index in forward direction.\n",
    "If step value is -ve, then we have to consider from begin index to end-1 index in backward direction.\n",
    "Note :\n",
    "1. In forward direction if end value is 0, then the result is always empyt.\n",
    "2. In backward direction if end value is -1, then the result is always empyty.\n",
    "\n",
    "eg:\n",
    "s='abcdefghij'\n",
    "s[1:6:2] ===> 'bdf'\n",
    "s[7::-1] ===> 'hgf'\n",
    "\n",
    "---\n"
   ]
  },
  {
   "cell_type": "code",
   "execution_count": 8,
   "metadata": {},
   "outputs": [
    {
     "name": "stdout",
     "output_type": "stream",
     "text": [
      "original String:  abcdefg\n",
      "Reversed String:  gfedcba\n"
     ]
    }
   ],
   "source": [
    "s='abcdefg'\n",
    "print('original String: ',s)\n",
    "print('Reversed String: ',s[::-1])"
   ]
  },
  {
   "cell_type": "markdown",
   "metadata": {},
   "source": [
    "Q10. What is difference between * args and **kwargs ?\n",
    "\n",
    "*args ---> Variable length arguments\n",
    "\n",
    "f(*args) ---> If a function with *args argument, then we can call that function by passing any number of values including zero number. with all these values, **tuple** will be created.\n",
    "\n",
    "---\n",
    "\n",
    "**kwargs ---> Variable length keyword arguments.\n",
    "f1(**kwargs):\n",
    "we can call this function by passing any number of keyword arguments including zero number and with all these keyword arguments, a dictionary will be created.\n",
    "\n",
    "\n"
   ]
  },
  {
   "cell_type": "code",
   "execution_count": 9,
   "metadata": {},
   "outputs": [
    {
     "name": "stdout",
     "output_type": "stream",
     "text": [
      "{'name': 'Durga', 'rollno': 100, 'marks': 90}\n"
     ]
    }
   ],
   "source": [
    "# def f1(*agrs):\n",
    "#     print(args)\n",
    "\n",
    "# f1()\n",
    "# f1(10)\n",
    "# f1(10,20)\n",
    "# f1(10,20,30)\n",
    "\n",
    "#####################################\n",
    "# def sum(*agrs):\n",
    "#     total=0\n",
    "#     for x in args:\n",
    "#         total=total+x\n",
    "#     print(\"The sum:\",total)\n",
    "\n",
    "# sum()\n",
    "# sum(10)\n",
    "# sum(10,20)\n",
    "# sum(10,20,30)\n",
    "\n",
    "#####################################\n",
    "\n",
    "def f1(**kwargs):\n",
    "    print(kwargs)\n",
    "    \n",
    "f1(name='Durga',rollno=100,marks=90)\n"
   ]
  },
  {
   "cell_type": "markdown",
   "metadata": {},
   "source": []
  }
 ],
 "metadata": {
  "kernelspec": {
   "display_name": "Python 3",
   "language": "python",
   "name": "python3"
  },
  "language_info": {
   "codemirror_mode": {
    "name": "ipython",
    "version": 3
   },
   "file_extension": ".py",
   "mimetype": "text/x-python",
   "name": "python",
   "nbconvert_exporter": "python",
   "pygments_lexer": "ipython3",
   "version": "3.12.6"
  }
 },
 "nbformat": 4,
 "nbformat_minor": 2
}
