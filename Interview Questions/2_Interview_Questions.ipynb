{
 "cells": [
  {
   "cell_type": "markdown",
   "metadata": {},
   "source": [
    "Q1. What is the difference between dir() and help() function?\n",
    "==>\n",
    "1. dir() function just list out all member of given module. But help() function provides documentation related to that module"
   ]
  },
  {
   "cell_type": "code",
   "execution_count": null,
   "metadata": {},
   "outputs": [],
   "source": [
    "# import math\n",
    "# print(dir(math))\n",
    "\n",
    "# import math\n",
    "# help(math)\n",
    "\n",
    "# topics\n",
    "# modules\n",
    "# keywords\n",
    "\n",
    "##########################\n",
    "\n",
    "x=10\n",
    "y=20\n",
    "def f1():\n",
    "    pass\n",
    "print(dir())\n",
    "\n",
    "###########################"
   ]
  },
  {
   "cell_type": "markdown",
   "metadata": {},
   "source": [
    "Q2. What is Lambda Function or Anonymous Function ? \n",
    ": Sometimes we can deciare a function without any name, such type of nameless functions are called anonymous functions or\n",
    "lambda functions.\n",
    "The main objective of anonymous function is\n",
    "just for instant use.\n",
    "\n",
    "Normal Function :\n",
    "\n",
    "---\n",
    "\n",
    "We can define normal function by using def keyword."
   ]
  },
  {
   "cell_type": "code",
   "execution_count": null,
   "metadata": {},
   "outputs": [],
   "source": [
    "def squareit(n):\n",
    "    return n*n\n",
    "\n",
    "# lambda Funtion\n",
    "# We can define anonymous function by using lambda keyword.\n",
    "# lambda n:n*n\n",
    "# syntax:\n",
    "# lambda argument_list:expression\n",
    "\n",
    "s=lambda n:n*n\n",
    "print('The Square of 4:',s(4))\n",
    "print(\"The Square of 5: \",s(5))\n",
    "\n",
    "# By using lambda functions, we can write very concise code, so that readability Of\n",
    "# the code wili be improved.\n"
   ]
  },
  {
   "cell_type": "markdown",
   "metadata": {},
   "source": [
    "Q. What are various differences between Normal function and Lambda Function?\n",
    "==>\n",
    " \n",
    "1. It is a named function and we can define by using def keyword.\n",
    "2. It is a nameless(anonymous) function and we can define by using lambda keyword.\n",
    "3. We have to write return statement expliticly to return some value.\n",
    "4. We are not required to write return statement explicitly to return some value\n",
    "because lambda function internally has return statement.\n",
    "\n",
    "---\n",
    "3. If we want a function just for instant use(ie one time usage), then we should\n",
    "go for lambda function.\n",
    "\n",
    "\n",
    "4. Length of the code is more and hence readability will be reduced.\n",
    "4. Length of the code is very less(concise code) and hence readability will be improved.\n"
   ]
  },
  {
   "cell_type": "markdown",
   "metadata": {},
   "source": [
    "Q. Explain about filter() function?\n",
    "==> We can use filter() function to filter values from the given sequence based on\n",
    "some condition.\n",
    "\n",
    "filter (function, sequence)\n",
    "\n",
    "Where argument function is responsible to perform conditional check and it should\n",
    "be boolean valued function.\n",
    "\n",
    "For every element in the given sequence, this function will be applied and if it\n",
    "returns True then only the value wili be consider in the result.\n",
    "\n"
   ]
  },
  {
   "cell_type": "code",
   "execution_count": null,
   "metadata": {},
   "outputs": [],
   "source": [
    "def is_even(x):\n",
    "    if x%2==0:\n",
    "        return True\n",
    "    else:\n",
    "        return False\n",
    "    \n",
    "l1=[0,5,10,15,20,25,30]\n",
    "l2=list(filter(is_even,l1))\n",
    "print(l2) # [0,10,20,30]\n",
    "# filter (function, sequence)\n",
    "\n",
    "#########################################\n",
    "\n",
    "l1=[0,5,10,15,20,25,30,35,40]\n",
    "l2=list(filter(lambda x: x%2==0,l1))\n",
    "print(l2)"
   ]
  },
  {
   "cell_type": "code",
   "execution_count": null,
   "metadata": {},
   "outputs": [],
   "source": [
    "l1=['Apple','A','AA','BBBB','AppleApple','BananaBanana']\n",
    "l2=list(filter(lambda s:len(s)>5,l1))\n",
    "print(l2)\n",
    "\n",
    "###############################################\n",
    "l1=['Apple','A','AA','BBBB','AppleApple','BananaBanana']\n",
    "f=lambda s:len(s)>5\n",
    "l2=[]\n",
    "for x in l1:\n",
    "    if f(x)==True:\n",
    "        l2.append(x)\n",
    "print(l2)\n"
   ]
  },
  {
   "cell_type": "markdown",
   "metadata": {},
   "source": [
    "Explain about map(), reduce(), decorator, generator function ?"
   ]
  }
 ],
 "metadata": {
  "language_info": {
   "name": "python"
  }
 },
 "nbformat": 4,
 "nbformat_minor": 2
}
