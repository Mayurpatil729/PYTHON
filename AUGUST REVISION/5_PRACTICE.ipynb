{
 "cells": [
  {
   "cell_type": "markdown",
   "metadata": {},
   "source": [
    "### **Day 9**"
   ]
  },
  {
   "cell_type": "markdown",
   "metadata": {},
   "source": [
    "#####  **1. User will provide 2 numbers you have to find the by LCM of those 2 numbers**"
   ]
  },
  {
   "cell_type": "markdown",
   "metadata": {},
   "source": [
    "#####  **2. Write a program that take a user input of three angles and will find out whether it can form a triangle or not.**"
   ]
  },
  {
   "cell_type": "markdown",
   "metadata": {},
   "source": [
    "#####  **3. Write a program that will determine weather when the value of temperature and humidity is provided by the user**"
   ]
  },
  {
   "cell_type": "markdown",
   "metadata": {},
   "source": [
    "#####  **4. Write a program that will take user input of cost price and selling price and determines whether its a loss or a profit**"
   ]
  },
  {
   "cell_type": "markdown",
   "metadata": {},
   "source": [
    "#####  **5. Write a program that will give you the in hand salary after deduction of HRA(10%),DA(5%),PF(3%),and tax(if salary is between 5-10 lakh–10%),(11-20lakh–20%),(20< _ – 30%)(0-1lakh print k)**"
   ]
  },
  {
   "cell_type": "markdown",
   "metadata": {},
   "source": [
    "### **Day 10**"
   ]
  },
  {
   "cell_type": "markdown",
   "metadata": {},
   "source": [
    "#####  **1. : Write a menu driven program - 1.cm to ft 2.kl to miles 3.usd to inr 4.exit**"
   ]
  },
  {
   "cell_type": "markdown",
   "metadata": {},
   "source": [
    "#####  **2. Write a program that will tell the number of dogs and chicken are there when the user will provide the value of total heads and legs.**"
   ]
  },
  {
   "cell_type": "markdown",
   "metadata": {},
   "source": [
    "#####  **3. Write a program to find the sum of first n numbers, where n will be provided by the user.Eg if the user provides n=10 the output should be 55.**"
   ]
  },
  {
   "cell_type": "markdown",
   "metadata": {},
   "source": [
    "#####  **4.  Write a program that can multiply 2 numbers provided by the user without using the operator**"
   ]
  },
  {
   "cell_type": "markdown",
   "metadata": {},
   "source": [
    "#####  **5. Write a program that can find the factorial of a given number provided by the user**"
   ]
  }
 ],
 "metadata": {
  "language_info": {
   "name": "python"
  },
  "orig_nbformat": 4
 },
 "nbformat": 4,
 "nbformat_minor": 2
}
