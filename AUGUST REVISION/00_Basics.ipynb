{
 "cells": [
  {
   "cell_type": "markdown",
   "metadata": {},
   "source": [
    "#### **August Revision**"
   ]
  },
  {
   "cell_type": "markdown",
   "metadata": {},
   "source": [
    "##### **[[Basics]]** "
   ]
  },
  {
   "cell_type": "markdown",
   "metadata": {},
   "source": [
    "### **Beginning**"
   ]
  },
  {
   "cell_type": "markdown",
   "metadata": {},
   "source": [
    "**Basics**"
   ]
  },
  {
   "cell_type": "code",
   "execution_count": null,
   "metadata": {},
   "outputs": [],
   "source": [
    "import keyword\n",
    "print(keyword.kwlist)"
   ]
  },
  {
   "cell_type": "code",
   "execution_count": null,
   "metadata": {},
   "outputs": [],
   "source": [
    "a=eval(input(\"\"))\n",
    "print(type(a))"
   ]
  },
  {
   "cell_type": "code",
   "execution_count": null,
   "metadata": {},
   "outputs": [],
   "source": [
    "b=\"Python\"\n",
    "print(len(b))"
   ]
  },
  {
   "cell_type": "code",
   "execution_count": null,
   "metadata": {},
   "outputs": [],
   "source": []
  },
  {
   "cell_type": "markdown",
   "metadata": {},
   "source": []
  },
  {
   "cell_type": "code",
   "execution_count": null,
   "metadata": {},
   "outputs": [],
   "source": []
  },
  {
   "cell_type": "markdown",
   "metadata": {},
   "source": []
  },
  {
   "cell_type": "code",
   "execution_count": null,
   "metadata": {},
   "outputs": [],
   "source": []
  },
  {
   "cell_type": "markdown",
   "metadata": {},
   "source": []
  },
  {
   "cell_type": "markdown",
   "metadata": {},
   "source": [
    "#####  **1. Addition of Two Numbers**"
   ]
  },
  {
   "cell_type": "code",
   "execution_count": 6,
   "metadata": {},
   "outputs": [
    {
     "name": "stdout",
     "output_type": "stream",
     "text": [
      "Addition of two numbers :  40\n"
     ]
    }
   ],
   "source": [
    "# print(\"Program For Additon Of Two Numbers\")\n",
    "# num1=int(input(\"Enter the First number :\"))\n",
    "# num2=int(input(\"Enter the Second number :\"))\n",
    "# print(\"Additon of \"+ str(num1) +' and '+ str(num2) +\" is :\",num1+num2)\n",
    "# print(\"Additon of\",num1,'and',num2,\"is :\", num1+num2)\n",
    "\n",
    "print(\"Addition of two numbers : \",eval(input(\"Enter the first number : \"))+eval(input(\"Enter the second number : \")))"
   ]
  },
  {
   "cell_type": "markdown",
   "metadata": {},
   "source": [
    "#####  **2. Simple Interest**\n"
   ]
  },
  {
   "cell_type": "code",
   "execution_count": 1,
   "metadata": {},
   "outputs": [
    {
     "name": "stdout",
     "output_type": "stream",
     "text": [
      "Program to find the simple interest\n",
      "The Simple Interest :  90.0\n"
     ]
    }
   ],
   "source": [
    "print(\"Program to find the simple interest\")\n",
    "principal=int(input(\"Enter the principal amount : \"))\n",
    "rate=int(input(\"Enter the rate of interest : \"))\n",
    "years=int(input(\"Enter the number of years : \"))\n",
    "print(\"The Simple Interest : \",(principal*rate*years)/100)"
   ]
  },
  {
   "cell_type": "markdown",
   "metadata": {},
   "source": [
    "#####  **3. Swap Numbers**"
   ]
  },
  {
   "cell_type": "code",
   "execution_count": 5,
   "metadata": {},
   "outputs": [
    {
     "name": "stdout",
     "output_type": "stream",
     "text": [
      "programs for swaping two numbers without using third variable\n",
      "Numbers Before swaping : \n"
     ]
    },
    {
     "name": "stdout",
     "output_type": "stream",
     "text": [
      "X :  5\n",
      "Y :  6\n",
      "Numbers after swaping :\n",
      " X :  6\n",
      " Y :  5\n"
     ]
    }
   ],
   "source": [
    "print(\"programs for swaping two numbers without using third variable\")\n",
    "print(\"Numbers Before swaping : \")\n",
    "x=int(input(\"Enter the first number X : \"))\n",
    "y=int(input(\"Enter the second number Y :  \"))\n",
    "print(\"X : \",x)\n",
    "print(\"Y : \",y)\n",
    "x,y=y,x\n",
    "print(\"Numbers after swaping :\")\n",
    "print(\" X : \",x)\n",
    "print(\" Y : \",y)"
   ]
  },
  {
   "cell_type": "markdown",
   "metadata": {},
   "source": [
    "#####  **4. Square and cube**"
   ]
  },
  {
   "cell_type": "code",
   "execution_count": 17,
   "metadata": {},
   "outputs": [
    {
     "name": "stdout",
     "output_type": "stream",
     "text": [
      "Program to find Square and cube of any given number : \n",
      "Square of 9  : 81\n",
      "Cube of 9  : 729\n"
     ]
    }
   ],
   "source": [
    "print(\"Program to find Square and cube of any given number : \")\n",
    "n=int(input(\"\\nEnter the number : \"))\n",
    "print(\"Square of\",n,\" :\",n**2)\n",
    "print(\"Cube of\",n,\" :\",n**3)"
   ]
  },
  {
   "cell_type": "markdown",
   "metadata": {},
   "source": [
    "#####  **5. Odd and Even**"
   ]
  },
  {
   "cell_type": "code",
   "execution_count": 12,
   "metadata": {},
   "outputs": [
    {
     "name": "stdout",
     "output_type": "stream",
     "text": [
      "10 is Even\n"
     ]
    }
   ],
   "source": [
    "n=int(input(\"Enter the number : \"))\n",
    "if n%2==0:\n",
    "    print(n,\"is Even\")\n",
    "else:\n",
    "    print(n,\"is odd\")"
   ]
  },
  {
   "cell_type": "markdown",
   "metadata": {},
   "source": [
    "#####  **6. Divisible by 5 and 11**"
   ]
  },
  {
   "cell_type": "code",
   "execution_count": 13,
   "metadata": {},
   "outputs": [
    {
     "name": "stdout",
     "output_type": "stream",
     "text": [
      "55 is divisible by 5 and 11\n"
     ]
    }
   ],
   "source": [
    "n=int(input(\"Enter the number : \"))\n",
    "if n%5==0 and n%11==0:\n",
    "    print(n,\"is divisible by 5 and 11\")\n",
    "else:\n",
    "    print(n,\"is not divisible by 5 and 11\")"
   ]
  },
  {
   "cell_type": "markdown",
   "metadata": {},
   "source": [
    "#####  **7. Greatest of two integers**"
   ]
  },
  {
   "cell_type": "code",
   "execution_count": null,
   "metadata": {},
   "outputs": [],
   "source": []
  },
  {
   "cell_type": "markdown",
   "metadata": {},
   "source": [
    "#####  **8. Greatest of three integers**"
   ]
  },
  {
   "cell_type": "markdown",
   "metadata": {},
   "source": [
    "#####  **9. Days of month**"
   ]
  },
  {
   "cell_type": "markdown",
   "metadata": {},
   "source": [
    "#####  **10. Accept character from user**"
   ]
  }
 ],
 "metadata": {
  "kernelspec": {
   "display_name": "Python 3",
   "language": "python",
   "name": "python3"
  },
  "language_info": {
   "codemirror_mode": {
    "name": "ipython",
    "version": 3
   },
   "file_extension": ".py",
   "mimetype": "text/x-python",
   "name": "python",
   "nbconvert_exporter": "python",
   "pygments_lexer": "ipython3",
   "version": "3.10.11"
  },
  "orig_nbformat": 4
 },
 "nbformat": 4,
 "nbformat_minor": 2
}
