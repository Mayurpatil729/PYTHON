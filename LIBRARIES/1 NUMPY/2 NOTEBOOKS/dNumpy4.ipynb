{
 "cells": [
  {
   "cell_type": "code",
   "execution_count": 5,
   "metadata": {},
   "outputs": [
    {
     "name": "stdout",
     "output_type": "stream",
     "text": [
      "[30, 40, 50]\n",
      "[30, 40, 50, 60]\n",
      "[10, 20, 30, 40, 50]\n",
      "[10, 20, 30, 40, 50, 60]\n",
      "[40, 60]\n",
      "\n",
      "[60, 50, 40, 30]\n",
      "[]\n",
      "[]\n"
     ]
    }
   ],
   "source": [
    "import numpy as np\n",
    "l=[10,20,30,40,50,60]\n",
    "print(l[2:5])\n",
    "print(l[2:])\n",
    "print(l[:5])\n",
    "print(l[:])\n",
    "print(l[3:6:2])\n",
    "print()\n",
    "print(l[5:1:-1])\n",
    "print(l[5:0])\n",
    "print(l[-2:-1:-1])"
   ]
  },
  {
   "cell_type": "code",
   "execution_count": 9,
   "metadata": {},
   "outputs": [
    {
     "name": "stdout",
     "output_type": "stream",
     "text": [
      "(3, 2)\n"
     ]
    },
    {
     "data": {
      "text/plain": [
       "array([[12, 35],\n",
       "       [45, 62],\n",
       "       [85, 65]])"
      ]
     },
     "execution_count": 9,
     "metadata": {},
     "output_type": "execute_result"
    }
   ],
   "source": [
    "#SLICE OPERATOR ON 2D ARRAY\n",
    "\n",
    "a=np.array([[12,35],[45,62],[85,65]])\n",
    "print(a.shape)\n",
    "a\n"
   ]
  },
  {
   "cell_type": "code",
   "execution_count": 31,
   "metadata": {},
   "outputs": [
    {
     "name": "stdout",
     "output_type": "stream",
     "text": [
      "[[12]\n",
      " [45]\n",
      " [85]]\n",
      "\n",
      "[[12 35]\n",
      " [45 62]]\n",
      "[[12 35]\n",
      " [85 65]]\n"
     ]
    }
   ],
   "source": [
    "print(a[:,0:1])\n",
    "print()\n",
    "print(a[0:2,0:2])\n",
    "print()\n",
    "print(a[::2,:])"
   ]
  },
  {
   "cell_type": "code",
   "execution_count": 37,
   "metadata": {},
   "outputs": [
    {
     "name": "stdout",
     "output_type": "stream",
     "text": [
      "[[  1   2   3   4]\n",
      " [  5   6   7   8]\n",
      " [  9  10  11  12]\n",
      " [ 13  14  15 160]]\n",
      "\n",
      "[[  1   2   3   4]\n",
      " [ 13  14  15 160]]\n",
      "\n",
      "[[ 1  3]\n",
      " [ 5  7]\n",
      " [ 9 11]\n",
      " [13 15]]\n",
      "\n",
      "[[ 6  7]\n",
      " [10 11]]\n",
      "\n",
      "[[ 5  6  7  8]\n",
      " [ 9 10 11 12]]\n"
     ]
    }
   ],
   "source": [
    "l=[[1,2,3,4],[5,6,7,8],[9,10,11,12],[13,14,15,160]]\n",
    "a=np.array(l)\n",
    "print(a)\n",
    "print()\n",
    "print(a[::3,:])\n",
    "print()\n",
    "print(a[:,::2])\n",
    "print()\n",
    "print(a[1:3,1:3])\n",
    "print()\n",
    "print(a[1:3])"
   ]
  },
  {
   "cell_type": "code",
   "execution_count": 47,
   "metadata": {},
   "outputs": [
    {
     "name": "stdout",
     "output_type": "stream",
     "text": [
      "[[[ 1  2  3  4]\n",
      "  [ 5  6  7  8]\n",
      "  [ 9 10 11 12]]\n",
      "\n",
      " [[13 14 15 16]\n",
      "  [17 18 19 20]\n",
      "  [21 22 23 24]]]\n",
      "[[[ 1  2  3  4]\n",
      "  [ 5  6  7  8]\n",
      "  [ 9 10 11 12]]\n",
      "\n",
      " [[13 14 15 16]\n",
      "  [17 18 19 20]\n",
      "  [21 22 23 24]]]\n",
      "(2, 3, 4)\n",
      "\n",
      "[[[ 1]\n",
      "  [ 5]\n",
      "  [ 9]]\n",
      "\n",
      " [[13]\n",
      "  [17]\n",
      "  [21]]]\n",
      "\n",
      "[[[ 9 10 11 12]]\n",
      "\n",
      " [[21 22 23 24]]]\n"
     ]
    }
   ],
   "source": [
    "#slice on 3d array\n",
    "l = [[[1, 2, 3, 4], [5, 6, 7, 8], [9, 10, 11, 12]], [[13, 14, 15, 16],[17,18,19,20],[21,22,23,24]]]\n",
    "a=np.array(l)\n",
    "print(a)\n",
    "print(a)\n",
    "print(a.shape)\n",
    "print()\n",
    "print(a[:,:,:1])\n",
    "print()\n",
    "print(a[:,2:,:])"
   ]
  },
  {
   "cell_type": "code",
   "execution_count": null,
   "metadata": {},
   "outputs": [],
   "source": []
  },
  {
   "cell_type": "code",
   "execution_count": null,
   "metadata": {},
   "outputs": [],
   "source": []
  },
  {
   "cell_type": "code",
   "execution_count": null,
   "metadata": {},
   "outputs": [],
   "source": []
  }
 ],
 "metadata": {
  "kernelspec": {
   "display_name": "Python 3",
   "language": "python",
   "name": "python3"
  },
  "language_info": {
   "codemirror_mode": {
    "name": "ipython",
    "version": 3
   },
   "file_extension": ".py",
   "mimetype": "text/x-python",
   "name": "python",
   "nbconvert_exporter": "python",
   "pygments_lexer": "ipython3",
   "version": "3.10.9 (tags/v3.10.9:1dd9be6, Dec  6 2022, 20:01:21) [MSC v.1934 64 bit (AMD64)]"
  },
  "orig_nbformat": 4,
  "vscode": {
   "interpreter": {
    "hash": "e3a928b85d63b2ef9b6ccf12e8d329d0cbc7130b7b94533fcc116c9895f7d050"
   }
  }
 },
 "nbformat": 4,
 "nbformat_minor": 2
}
